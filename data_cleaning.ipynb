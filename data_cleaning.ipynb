{
 "cells": [
  {
   "cell_type": "markdown",
   "metadata": {},
   "source": [
    "## This note book will be doing data cleaning and analysis"
   ]
  },
  {
   "cell_type": "markdown",
   "metadata": {},
   "source": [
    "# Data Cleaning"
   ]
  },
  {
   "cell_type": "code",
   "execution_count": 89,
   "metadata": {},
   "outputs": [],
   "source": [
    "import numpy as np \n",
    "import pandas as pd\n",
    "from tqdm import tqdm"
   ]
  },
  {
   "cell_type": "code",
   "execution_count": 90,
   "metadata": {},
   "outputs": [
    {
     "name": "stderr",
     "output_type": "stream",
     "text": [
      "100%|██████████| 50/50 [00:15<00:00,  3.19it/s]\n"
     ]
    }
   ],
   "source": [
    "zip_code_csv = pd.read_csv(\"data/major_city_zip_code.csv\")\n",
    "zip_code_list = zip_code_csv[\"zip_code\"]\n",
    "\n",
    "def read_car_info(zip_code):\n",
    "    car_file_name = f\"data/car_info/cars_{zip_code}.csv\"\n",
    "    return pd.read_csv(car_file_name, on_bad_lines = 'skip')\n",
    "\n",
    "data = read_car_info(zip_code_list[0])\n",
    "for zip_code in tqdm(zip_code_list):\n",
    "    data = pd.concat([data, read_car_info(zip_code)])"
   ]
  },
  {
   "cell_type": "code",
   "execution_count": 91,
   "metadata": {},
   "outputs": [],
   "source": [
    "data = data.replace('–', np.nan)\n",
    "data = data.replace(-1,np.nan)\n",
    "data = data.dropna()"
   ]
  },
  {
   "cell_type": "code",
   "execution_count": 92,
   "metadata": {},
   "outputs": [],
   "source": [
    "def split_name(text):\n",
    "    text = text.split(' ')\n",
    "    return [text[0], text[1], ' '.join(text[2:])]\n",
    "data[['year', 'make', 'model']] = data.car_name.apply(split_name).tolist()"
   ]
  },
  {
   "cell_type": "code",
   "execution_count": 93,
   "metadata": {},
   "outputs": [],
   "source": [
    "def split_feature(text):\n",
    "    return text.split(\"###\")\n",
    "data.features = data.features.apply(split_feature)"
   ]
  },
  {
   "cell_type": "code",
   "execution_count": 94,
   "metadata": {},
   "outputs": [],
   "source": [
    "# data.to_csv(\"data/cleaned_data.csv\", index = False)"
   ]
  },
  {
   "cell_type": "markdown",
   "metadata": {},
   "source": [
    "# clean data to work"
   ]
  },
  {
   "cell_type": "code",
   "execution_count": 95,
   "metadata": {},
   "outputs": [
    {
     "data": {
      "text/html": [
       "<div>\n",
       "<style scoped>\n",
       "    .dataframe tbody tr th:only-of-type {\n",
       "        vertical-align: middle;\n",
       "    }\n",
       "\n",
       "    .dataframe tbody tr th {\n",
       "        vertical-align: top;\n",
       "    }\n",
       "\n",
       "    .dataframe thead th {\n",
       "        text-align: right;\n",
       "    }\n",
       "</style>\n",
       "<table border=\"1\" class=\"dataframe\">\n",
       "  <thead>\n",
       "    <tr style=\"text-align: right;\">\n",
       "      <th></th>\n",
       "      <th>price</th>\n",
       "      <th>Exterior_color</th>\n",
       "      <th>Interior_color</th>\n",
       "      <th>Drivetrain</th>\n",
       "      <th>MPG_low</th>\n",
       "      <th>MPG_high</th>\n",
       "      <th>Fuel_type</th>\n",
       "      <th>Transmission</th>\n",
       "      <th>Engine</th>\n",
       "      <th>Mileage</th>\n",
       "      <th>...</th>\n",
       "      <th>Interior_design_rating</th>\n",
       "      <th>Performance_rating</th>\n",
       "      <th>Value_rating</th>\n",
       "      <th>Exterior_styling_rating</th>\n",
       "      <th>Reliability_rating</th>\n",
       "      <th>features</th>\n",
       "      <th>zip_code</th>\n",
       "      <th>year</th>\n",
       "      <th>make</th>\n",
       "      <th>model</th>\n",
       "    </tr>\n",
       "  </thead>\n",
       "  <tbody>\n",
       "    <tr>\n",
       "      <th>0</th>\n",
       "      <td>24991.0</td>\n",
       "      <td>Sonic Silver Metallic</td>\n",
       "      <td>Black</td>\n",
       "      <td>Front-wheel Drive</td>\n",
       "      <td>25.0</td>\n",
       "      <td>31.0</td>\n",
       "      <td>Gasoline</td>\n",
       "      <td>6-Speed Automatic</td>\n",
       "      <td>2.5L I4 16V GDI DOHC</td>\n",
       "      <td>48388.0</td>\n",
       "      <td>...</td>\n",
       "      <td>4.8</td>\n",
       "      <td>4.7</td>\n",
       "      <td>4.8</td>\n",
       "      <td>4.9</td>\n",
       "      <td>4.8</td>\n",
       "      <td>['1st and 2nd row curtain head airbags', '4 Do...</td>\n",
       "      <td>77449</td>\n",
       "      <td>2018</td>\n",
       "      <td>Mazda</td>\n",
       "      <td>CX-5 Touring</td>\n",
       "    </tr>\n",
       "    <tr>\n",
       "      <th>1</th>\n",
       "      <td>20995.0</td>\n",
       "      <td>Black</td>\n",
       "      <td>Black</td>\n",
       "      <td>Front-wheel Drive</td>\n",
       "      <td>29.0</td>\n",
       "      <td>37.0</td>\n",
       "      <td>Gasoline</td>\n",
       "      <td>Automatic CVT</td>\n",
       "      <td>2.0L I4 16V MPFI DOHC</td>\n",
       "      <td>21469.0</td>\n",
       "      <td>...</td>\n",
       "      <td>4.8</td>\n",
       "      <td>4.9</td>\n",
       "      <td>4.8</td>\n",
       "      <td>4.9</td>\n",
       "      <td>4.9</td>\n",
       "      <td>['1st and 2nd row curtain head airbags', '2 US...</td>\n",
       "      <td>77449</td>\n",
       "      <td>2020</td>\n",
       "      <td>Honda</td>\n",
       "      <td>Civic Sport</td>\n",
       "    </tr>\n",
       "    <tr>\n",
       "      <th>2</th>\n",
       "      <td>24988.0</td>\n",
       "      <td>Magnetic</td>\n",
       "      <td>Charcoal Black</td>\n",
       "      <td>Front-wheel Drive</td>\n",
       "      <td>21.0</td>\n",
       "      <td>28.0</td>\n",
       "      <td>Gasoline</td>\n",
       "      <td>6-Speed Automatic</td>\n",
       "      <td>2.0L I4 16V GDI DOHC Turbo</td>\n",
       "      <td>23409.0</td>\n",
       "      <td>...</td>\n",
       "      <td>4.7</td>\n",
       "      <td>4.7</td>\n",
       "      <td>4.6</td>\n",
       "      <td>4.8</td>\n",
       "      <td>4.8</td>\n",
       "      <td>['120v Ac Power Outlet : 1', '1st and 2nd row ...</td>\n",
       "      <td>77449</td>\n",
       "      <td>2018</td>\n",
       "      <td>Ford</td>\n",
       "      <td>Escape Titanium</td>\n",
       "    </tr>\n",
       "    <tr>\n",
       "      <th>3</th>\n",
       "      <td>25499.0</td>\n",
       "      <td>Machine Gray Metallic</td>\n",
       "      <td>Black</td>\n",
       "      <td>All-wheel Drive</td>\n",
       "      <td>24.0</td>\n",
       "      <td>30.0</td>\n",
       "      <td>Gasoline</td>\n",
       "      <td>Automatic</td>\n",
       "      <td>Regular Unleaded I-4 2.5 L/152</td>\n",
       "      <td>48993.0</td>\n",
       "      <td>...</td>\n",
       "      <td>4.8</td>\n",
       "      <td>4.7</td>\n",
       "      <td>4.8</td>\n",
       "      <td>4.9</td>\n",
       "      <td>4.8</td>\n",
       "      <td>['19 Inch Wheels', 'Adjustable Seats', 'Adjust...</td>\n",
       "      <td>77449</td>\n",
       "      <td>2018</td>\n",
       "      <td>Mazda</td>\n",
       "      <td>CX-5 Touring</td>\n",
       "    </tr>\n",
       "    <tr>\n",
       "      <th>4</th>\n",
       "      <td>44998.0</td>\n",
       "      <td>White</td>\n",
       "      <td>Gray</td>\n",
       "      <td>Front-wheel Drive</td>\n",
       "      <td>20.0</td>\n",
       "      <td>28.0</td>\n",
       "      <td>Gasoline</td>\n",
       "      <td>8-Speed Automatic</td>\n",
       "      <td>3.5L V6 24V PDI DOHC</td>\n",
       "      <td>28076.0</td>\n",
       "      <td>...</td>\n",
       "      <td>4.8</td>\n",
       "      <td>4.8</td>\n",
       "      <td>4.6</td>\n",
       "      <td>4.9</td>\n",
       "      <td>4.8</td>\n",
       "      <td>['1st and 2nd row curtain head airbags', '2 Ke...</td>\n",
       "      <td>77449</td>\n",
       "      <td>2019</td>\n",
       "      <td>Lexus</td>\n",
       "      <td>RX 350</td>\n",
       "    </tr>\n",
       "  </tbody>\n",
       "</table>\n",
       "<p>5 rows × 22 columns</p>\n",
       "</div>"
      ],
      "text/plain": [
       "     price         Exterior_color  Interior_color         Drivetrain  MPG_low  \\\n",
       "0  24991.0  Sonic Silver Metallic           Black  Front-wheel Drive     25.0   \n",
       "1  20995.0                  Black           Black  Front-wheel Drive     29.0   \n",
       "2  24988.0               Magnetic  Charcoal Black  Front-wheel Drive     21.0   \n",
       "3  25499.0  Machine Gray Metallic           Black    All-wheel Drive     24.0   \n",
       "4  44998.0                  White            Gray  Front-wheel Drive     20.0   \n",
       "\n",
       "   MPG_high Fuel_type       Transmission                          Engine  \\\n",
       "0      31.0  Gasoline  6-Speed Automatic            2.5L I4 16V GDI DOHC   \n",
       "1      37.0  Gasoline      Automatic CVT           2.0L I4 16V MPFI DOHC   \n",
       "2      28.0  Gasoline  6-Speed Automatic      2.0L I4 16V GDI DOHC Turbo   \n",
       "3      30.0  Gasoline          Automatic  Regular Unleaded I-4 2.5 L/152   \n",
       "4      28.0  Gasoline  8-Speed Automatic            3.5L V6 24V PDI DOHC   \n",
       "\n",
       "   Mileage  ...  Interior_design_rating Performance_rating Value_rating  \\\n",
       "0  48388.0  ...                     4.8                4.7          4.8   \n",
       "1  21469.0  ...                     4.8                4.9          4.8   \n",
       "2  23409.0  ...                     4.7                4.7          4.6   \n",
       "3  48993.0  ...                     4.8                4.7          4.8   \n",
       "4  28076.0  ...                     4.8                4.8          4.6   \n",
       "\n",
       "  Exterior_styling_rating Reliability_rating  \\\n",
       "0                     4.9                4.8   \n",
       "1                     4.9                4.9   \n",
       "2                     4.8                4.8   \n",
       "3                     4.9                4.8   \n",
       "4                     4.9                4.8   \n",
       "\n",
       "                                            features zip_code  year   make  \\\n",
       "0  ['1st and 2nd row curtain head airbags', '4 Do...    77449  2018  Mazda   \n",
       "1  ['1st and 2nd row curtain head airbags', '2 US...    77449  2020  Honda   \n",
       "2  ['120v Ac Power Outlet : 1', '1st and 2nd row ...    77449  2018   Ford   \n",
       "3  ['19 Inch Wheels', 'Adjustable Seats', 'Adjust...    77449  2018  Mazda   \n",
       "4  ['1st and 2nd row curtain head airbags', '2 Ke...    77449  2019  Lexus   \n",
       "\n",
       "             model  \n",
       "0     CX-5 Touring  \n",
       "1      Civic Sport  \n",
       "2  Escape Titanium  \n",
       "3     CX-5 Touring  \n",
       "4           RX 350  \n",
       "\n",
       "[5 rows x 22 columns]"
      ]
     },
     "execution_count": 95,
     "metadata": {},
     "output_type": "execute_result"
    }
   ],
   "source": [
    "# data = pd.read_csv(\"data/cleaned_data.csv\")\n",
    "data = data.drop(columns=[\"car_name\"])\n",
    "data.head(5)\n"
   ]
  },
  {
   "cell_type": "code",
   "execution_count": 96,
   "metadata": {},
   "outputs": [],
   "source": [
    "new_data = pd.DataFrame()\n",
    "new_data['zip'] = data.zip_code"
   ]
  },
  {
   "cell_type": "code",
   "execution_count": 97,
   "metadata": {},
   "outputs": [],
   "source": [
    "# print(data.make.value_counts().index)\n",
    "new_data['make'] = data.make.str.lower()"
   ]
  },
  {
   "cell_type": "code",
   "execution_count": 98,
   "metadata": {},
   "outputs": [],
   "source": [
    "new_data['year'] = data.year"
   ]
  },
  {
   "cell_type": "code",
   "execution_count": 99,
   "metadata": {},
   "outputs": [],
   "source": [
    "new_data['model'] = data.model.str.lower()"
   ]
  },
  {
   "cell_type": "code",
   "execution_count": 100,
   "metadata": {},
   "outputs": [
    {
     "data": {
      "text/plain": [
       "Index(['price', 'Exterior_color', 'Interior_color', 'Drivetrain', 'MPG_low',\n",
       "       'MPG_high', 'Fuel_type', 'Transmission', 'Engine', 'Mileage', 'rating',\n",
       "       'Comfort_rating', 'Interior_design_rating', 'Performance_rating',\n",
       "       'Value_rating', 'Exterior_styling_rating', 'Reliability_rating',\n",
       "       'features', 'zip_code', 'year', 'make', 'model'],\n",
       "      dtype='object')"
      ]
     },
     "execution_count": 100,
     "metadata": {},
     "output_type": "execute_result"
    }
   ],
   "source": [
    "data.columns"
   ]
  },
  {
   "cell_type": "code",
   "execution_count": 101,
   "metadata": {},
   "outputs": [
    {
     "name": "stderr",
     "output_type": "stream",
     "text": [
      "100%|██████████| 205090/205090 [00:00<00:00, 1171681.38it/s]\n"
     ]
    }
   ],
   "source": [
    "#map color to simple colors\n",
    "colors = data.Exterior_color\n",
    "new_colors = []\n",
    "\n",
    "for color in tqdm(colors):\n",
    "    if 'black' in color.lower():\n",
    "        new_colors.append('black')\n",
    "    elif 'red' in color.lower():\n",
    "        new_colors.append('red')\n",
    "    elif 'purple' in color.lower():\n",
    "        new_colors.append('purple')\n",
    "    elif 'quartz' in color.lower():\n",
    "        new_colors.append('quartz')\n",
    "    elif 'white' in color.lower():\n",
    "        new_colors.append('white')\n",
    "    elif 'orange' in color.lower():\n",
    "        new_colors.append('orange')\n",
    "    elif 'blue' in color.lower():\n",
    "        new_colors.append('blue')\n",
    "    elif 'gray' in color.lower():\n",
    "        new_colors.append('gray')\n",
    "    elif 'grey' in color.lower():\n",
    "        new_colors.append('gray')\n",
    "    elif 'gold' in color.lower():\n",
    "        new_colors.append('gold')\n",
    "    elif 'brown' in color.lower():\n",
    "        new_colors.append('brown')\n",
    "    elif 'yellow' in color.lower():\n",
    "        new_colors.append('yellow')\n",
    "    elif 'silver' in color.lower():\n",
    "        new_colors.append('silver')\n",
    "    elif 'green' in color.lower():\n",
    "        new_colors.append('green')\n",
    "    else:\n",
    "        new_colors.append(color)\n",
    "\n",
    "new_data[\"ex_color\"] = new_colors"
   ]
  },
  {
   "cell_type": "code",
   "execution_count": 102,
   "metadata": {},
   "outputs": [
    {
     "name": "stderr",
     "output_type": "stream",
     "text": [
      "100%|██████████| 205090/205090 [00:00<00:00, 1414095.43it/s]\n"
     ]
    }
   ],
   "source": [
    "#map color to simple colors\n",
    "colors = data.Interior_color\n",
    "new_colors = []\n",
    "\n",
    "for color in tqdm(colors):\n",
    "    if 'black' in color.lower():\n",
    "        new_colors.append('black')\n",
    "    elif 'red' in color.lower():\n",
    "        new_colors.append('red')\n",
    "    elif 'purple' in color.lower():\n",
    "        new_colors.append('purple')\n",
    "    elif 'quartz' in color.lower():\n",
    "        new_colors.append('quartz')\n",
    "    elif 'white' in color.lower():\n",
    "        new_colors.append('white')\n",
    "    elif 'orange' in color.lower():\n",
    "        new_colors.append('orange')\n",
    "    elif 'blue' in color.lower():\n",
    "        new_colors.append('blue')\n",
    "    elif 'gray' in color.lower():\n",
    "        new_colors.append('gray')\n",
    "    elif 'grey' in color.lower():\n",
    "        new_colors.append('gray')\n",
    "    elif 'gold' in color.lower():\n",
    "        new_colors.append('gold')\n",
    "    elif 'brown' in color.lower():\n",
    "        new_colors.append('brown')\n",
    "    elif 'yellow' in color.lower():\n",
    "        new_colors.append('yellow')\n",
    "    elif 'silver' in color.lower():\n",
    "        new_colors.append('silver')\n",
    "    elif 'green' in color.lower():\n",
    "        new_colors.append('green')\n",
    "    else:\n",
    "        new_colors.append('other')\n",
    "\n",
    "new_data[\"in_color\"] = new_colors\n"
   ]
  },
  {
   "cell_type": "code",
   "execution_count": 103,
   "metadata": {},
   "outputs": [],
   "source": [
    "new_dt = []\n",
    "\n",
    "for i in data.Drivetrain:\n",
    "    if i == \"All-wheel Drive\":\n",
    "        new_dt.append(\"AWD\")\n",
    "    elif i == \"Four-wheel Drive\":\n",
    "        new_dt.append(\"AWD\")\n",
    "    elif i == \"4WD\":\n",
    "        new_dt.append(\"RWD\")\n",
    "    elif i == \"Rear-wheel Drive\":\n",
    "        new_dt.append(\"RWD\")\n",
    "    elif i == \"Front-wheel Drive\":\n",
    "        new_dt.append(\"FWD\")\n",
    "    elif i == \"Front Wheel Drive\":\n",
    "        new_dt.append(\"FWD\")\n",
    "    else:\n",
    "        new_dt.append(i)\n",
    "\n",
    "new_data[\"drive_train\"] = new_dt\n"
   ]
  },
  {
   "cell_type": "code",
   "execution_count": 146,
   "metadata": {},
   "outputs": [],
   "source": [
    "new_transmission = []\n",
    "\n",
    "for i in data.Transmission:\n",
    "    i = i.lower().strip()\n",
    "    if 'cvt' in i or \"continuously\" in i or \"variable\" in i:\n",
    "        new_transmission.append('cvt')\n",
    "    elif 'manual' in i or 'm/t' in i or 'smg' in i:\n",
    "        if '5' in i:\n",
    "            new_transmission.append('5m')\n",
    "        elif '6' in i:\n",
    "            new_transmission.append('6m')\n",
    "        elif '7' in i:\n",
    "            new_transmission.append('7m')\n",
    "        else:\n",
    "            new_transmission.append('m')\n",
    "    elif 'a/t' in i or 'auto' in i or 'a'==i or \"double\" in i or 'pdk' in i:\n",
    "        if '1' in i:\n",
    "            new_transmission.append('1a')\n",
    "        elif '2' in i:\n",
    "            new_transmission.append('2a')\n",
    "        elif '3' in i:\n",
    "            new_transmission.append('3a')\n",
    "        elif '4' in i:\n",
    "            new_transmission.append('4a')\n",
    "        elif '5' in i:\n",
    "            new_transmission.append('5a')\n",
    "        elif '6' in i:\n",
    "            new_transmission.append('6a')\n",
    "        elif '7' in i:\n",
    "            new_transmission.append('7a')\n",
    "        elif '8' in i:\n",
    "            new_transmission.append('8a')\n",
    "        elif '9' in i:\n",
    "            new_transmission.append('9a')\n",
    "        elif '10' in i:\n",
    "            new_transmission.append('10a')\n",
    "        else:\n",
    "            new_transmission.append('a')\n",
    "    else:\n",
    "        if i == '10a':\n",
    "            new_transmission.append('10a')\n",
    "        else:\n",
    "            new_transmission.append(\"other\")\n",
    "\n",
    "new_data[\"transmission\"] = new_transmission"
   ]
  },
  {
   "cell_type": "code",
   "execution_count": 157,
   "metadata": {},
   "outputs": [
    {
     "name": "stdout",
     "output_type": "stream",
     "text": [
      "electric 2322\n",
      "electric motor 53\n",
      "intercooled turbo gas/electric i-6 3.0 l/183 26\n",
      "gas/electric i-4 2.0 l/122 24\n",
      "intercooled turbo gas/electric v-6 3.0 l/183 21\n",
      "engine: 3.0l v6 electric w/supercharger & dfi 18\n",
      "intercooled turbo gas/electric i-4 2.0 l/122 11\n",
      "intercooled turbo gas/electric i-4 2.0 l/121 7\n",
      "gas/electric v-6 3.5 l/211 4\n",
      "turbo/supercharger gas/electric i-4 2.0 l/120 2\n",
      "gas/electric i-4 2.5 l/152 2\n",
      "gas/electric v-6 3.6 l/220 1\n",
      "gas/electric v-6 3.3 l/204 1\n"
     ]
    }
   ],
   "source": [
    "for i, k in zip(data.Engine.value_counts().index, data.Engine.value_counts()):\n",
    "    i = i.lower().strip()\n",
    "    if 'electric' in i:\n",
    "        print(i, k)"
   ]
  }
 ],
 "metadata": {
  "interpreter": {
   "hash": "bdb23fdff0c5a4ff19c60012722dc8b612f97405fbc3f591f23f85cf6bc873c0"
  },
  "kernelspec": {
   "display_name": "Python 3.9.7 ('base')",
   "language": "python",
   "name": "python3"
  },
  "language_info": {
   "codemirror_mode": {
    "name": "ipython",
    "version": 3
   },
   "file_extension": ".py",
   "mimetype": "text/x-python",
   "name": "python",
   "nbconvert_exporter": "python",
   "pygments_lexer": "ipython3",
   "version": "3.9.7"
  },
  "orig_nbformat": 4
 },
 "nbformat": 4,
 "nbformat_minor": 2
}
